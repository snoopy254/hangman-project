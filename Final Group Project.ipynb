{
 "cells": [
  {
   "cell_type": "code",
   "execution_count": null,
   "id": "b4ef8fb8-1293-4520-807a-842424788846",
   "metadata": {},
   "outputs": [
    {
     "name": "stdout",
     "output_type": "stream",
     "text": [
      "_ _ _ _ _ _ \n"
     ]
    }
   ],
   "source": [
    "import random \n",
    "\n",
    "def update_word(letters,word):\n",
    "    new_word = ''\n",
    "    for letter in word:\n",
    "        if letter in letters:\n",
    "            new_word += letter\n",
    "            print(letter, end = ' ')\n",
    "        else:\n",
    "            new_word += '_'\n",
    "            print('_', end = ' ')\n",
    "    print()\n",
    "    return new_word\n",
    "    \n",
    "\n",
    "word = 'python'\n",
    "guessed_list = []\n",
    "#guessed_letter  = input('enter letter')\n",
    "guessed_word = update_word(guessed_list,word)\n",
    "\n",
    "attempts = 10\n",
    "life = attempts\n",
    "\n",
    "while attempts > 0 and guessed_word != word:\n",
    "    guessed_letter = input('enter letter')\n",
    "    \n",
    "    \n",
    "    if guessed_letter in guessed_list:\n",
    "        print('already guessed this')\n",
    "        \n",
    "    elif guessed_letter not in word:\n",
    "        attempts -=1\n",
    "        print('try again.lives left', attempts)\n",
    "        guessed_list.append(guessed_letter)\n",
    "    else:\n",
    "        guessed_list.append(guessed_letter)\n",
    "        guessed_word = update_word(guessed_list,word)\n",
    "        \n",
    "        print('correct guessed letter.attempts left', attempts)\n",
    "if guessed_word == word:\n",
    "    print('congratulalions you guessed the correct word', word)\n",
    "\n",
    "else: \n",
    "    print('you are hanged, the word was',word)    "
   ]
  },
  {
   "cell_type": "code",
   "execution_count": 1,
   "id": "96ab155c-8a9d-4a09-ad56-bf65f5921595",
   "metadata": {},
   "outputs": [
    {
     "name": "stdout",
     "output_type": "stream",
     "text": [
      "_ _ _ _ _ _ _ _ \n"
     ]
    },
    {
     "name": "stderr",
     "output_type": "stream",
     "text": [
      "\n",
      "KeyboardInterrupt\n",
      "\n"
     ]
    }
   ],
   "source": [
    "#guessing using list of words\n",
    "import random \n",
    "words = ['city','bouquet','combustion','labour','remember']\n",
    "guessed_list = []\n",
    "word = random.choice(words)\n",
    "def update_word(letters,word):\n",
    "    new_word = ''\n",
    "    for letter in word:\n",
    "        if letter in letters:\n",
    "            new_word += letter\n",
    "            print(letter, end = ' ')\n",
    "        else:\n",
    "            new_word += '_'\n",
    "            print('_', end = ' ')\n",
    "    print()\n",
    "    return new_word\n",
    "    \n",
    "guessed_word = update_word(guessed_list,word)\n",
    "\n",
    "attempts = 10\n",
    "life = attempts\n",
    "\n",
    "while attempts > 0 and guessed_word != word:\n",
    "    guessed_letter = input('enter letter')\n",
    "    \n",
    "    \n",
    "    if guessed_letter in guessed_list:\n",
    "        print('already guessed this')\n",
    "        \n",
    "    elif guessed_letter not in word:\n",
    "        attempts -=1\n",
    "        print('try again.lives left', attempts)\n",
    "        guessed_list.append(guessed_letter)\n",
    "    else:\n",
    "        guessed_list.append(guessed_letter)\n",
    "        guessed_word = update_word(guessed_list,word)\n",
    "        \n",
    "        print('correct guessed letter.attempts left', attempts)\n",
    "if guessed_word == word:\n",
    "    print('congratulalions you guessed the correct word', word)\n",
    "\n",
    "else: \n",
    "    print('you are hanged, the word was',word)    "
   ]
  },
  {
   "cell_type": "code",
   "execution_count": 2,
   "id": "3bba5e53-fdd0-4762-8484-04ea32f5d124",
   "metadata": {},
   "outputs": [
    {
     "ename": "FileNotFoundError",
     "evalue": "[Errno 2] No such file or directory: 'text-files/words.txt'",
     "output_type": "error",
     "traceback": [
      "\u001b[1;31m---------------------------------------------------------------------------\u001b[0m",
      "\u001b[1;31mFileNotFoundError\u001b[0m                         Traceback (most recent call last)",
      "Cell \u001b[1;32mIn[2], line 3\u001b[0m\n\u001b[0;32m      1\u001b[0m \u001b[38;5;66;03m#guessing from text file\u001b[39;00m\n\u001b[0;32m      2\u001b[0m \u001b[38;5;28;01mimport\u001b[39;00m\u001b[38;5;250m \u001b[39m\u001b[38;5;21;01mrandom\u001b[39;00m \n\u001b[1;32m----> 3\u001b[0m \u001b[38;5;28;01mwith\u001b[39;00m \u001b[38;5;28mopen\u001b[39m(\u001b[38;5;124m'\u001b[39m\u001b[38;5;124mtext-files/words.txt\u001b[39m\u001b[38;5;124m'\u001b[39m) \u001b[38;5;28;01mas\u001b[39;00m f:\n\u001b[0;32m      4\u001b[0m     \u001b[38;5;28;01mfor\u001b[39;00m words \u001b[38;5;129;01min\u001b[39;00m f:\n\u001b[0;32m      5\u001b[0m         clean \u001b[38;5;241m=\u001b[39m words\u001b[38;5;241m.\u001b[39mstrip()\n",
      "File \u001b[1;32m~\\anaconda3\\Lib\\site-packages\\IPython\\core\\interactiveshell.py:324\u001b[0m, in \u001b[0;36m_modified_open\u001b[1;34m(file, *args, **kwargs)\u001b[0m\n\u001b[0;32m    317\u001b[0m \u001b[38;5;28;01mif\u001b[39;00m file \u001b[38;5;129;01min\u001b[39;00m {\u001b[38;5;241m0\u001b[39m, \u001b[38;5;241m1\u001b[39m, \u001b[38;5;241m2\u001b[39m}:\n\u001b[0;32m    318\u001b[0m     \u001b[38;5;28;01mraise\u001b[39;00m \u001b[38;5;167;01mValueError\u001b[39;00m(\n\u001b[0;32m    319\u001b[0m         \u001b[38;5;124mf\u001b[39m\u001b[38;5;124m\"\u001b[39m\u001b[38;5;124mIPython won\u001b[39m\u001b[38;5;124m'\u001b[39m\u001b[38;5;124mt let you open fd=\u001b[39m\u001b[38;5;132;01m{\u001b[39;00mfile\u001b[38;5;132;01m}\u001b[39;00m\u001b[38;5;124m by default \u001b[39m\u001b[38;5;124m\"\u001b[39m\n\u001b[0;32m    320\u001b[0m         \u001b[38;5;124m\"\u001b[39m\u001b[38;5;124mas it is likely to crash IPython. If you know what you are doing, \u001b[39m\u001b[38;5;124m\"\u001b[39m\n\u001b[0;32m    321\u001b[0m         \u001b[38;5;124m\"\u001b[39m\u001b[38;5;124myou can use builtins\u001b[39m\u001b[38;5;124m'\u001b[39m\u001b[38;5;124m open.\u001b[39m\u001b[38;5;124m\"\u001b[39m\n\u001b[0;32m    322\u001b[0m     )\n\u001b[1;32m--> 324\u001b[0m \u001b[38;5;28;01mreturn\u001b[39;00m io_open(file, \u001b[38;5;241m*\u001b[39margs, \u001b[38;5;241m*\u001b[39m\u001b[38;5;241m*\u001b[39mkwargs)\n",
      "\u001b[1;31mFileNotFoundError\u001b[0m: [Errno 2] No such file or directory: 'text-files/words.txt'"
     ]
    }
   ],
   "source": [
    "#guessing from text file\n",
    "import random \n",
    "with open('text-files/words.txt') as f:\n",
    "    for words in f:\n",
    "        clean = words.strip()\n",
    "        words = clean.split()\n",
    "\n",
    "#words = ['city','bouquet','combustion','labour','remember']\n",
    "guessed_list = []\n",
    "word = random.choice(words)\n",
    "def update_word(letters,word):\n",
    "    new_word = ''\n",
    "    for letter in word:\n",
    "        if letter in letters:\n",
    "            new_word += letter\n",
    "            print(letter, end = ' ')\n",
    "        else:\n",
    "            new_word += '_'\n",
    "            print('_', end = ' ')\n",
    "    print()\n",
    "    return new_word\n",
    "    \n",
    "guessed_word = update_word(guessed_list,word)\n",
    "\n",
    "attempts = 10\n",
    "life = attempts\n",
    "\n",
    "while attempts > 0 and guessed_word != word:\n",
    "    guessed_letter = input('enter letter')\n",
    "    \n",
    "    \n",
    "    if guessed_letter in guessed_list:\n",
    "        print('already guessed this')\n",
    "        \n",
    "    elif guessed_letter not in word:\n",
    "        attempts -=1\n",
    "        print('try again.lives left', attempts)\n",
    "        guessed_list.append(guessed_letter)\n",
    "    else:\n",
    "        guessed_list.append(guessed_letter)\n",
    "        guessed_word = update_word(guessed_list,word)\n",
    "        \n",
    "        print('correct guessed letter.attempts left', attempts)\n",
    "if guessed_word == word:\n",
    "    print('congratulalions you guessed the correct word', word)\n",
    "\n",
    "else: \n",
    "    print('you are hanged, the word was',word)    "
   ]
  },
  {
   "cell_type": "code",
   "execution_count": 40,
   "id": "bb0791ff-b0cf-4847-a05b-9ce0ab03095c",
   "metadata": {},
   "outputs": [
    {
     "name": "stdin",
     "output_type": "stream",
     "text": [
      "enter word hard\n"
     ]
    },
    {
     "name": "stdout",
     "output_type": "stream",
     "text": [
      "_ _ _ _ _ _ _ \n"
     ]
    },
    {
     "name": "stdin",
     "output_type": "stream",
     "text": [
      "enter letter a\n"
     ]
    },
    {
     "name": "stdout",
     "output_type": "stream",
     "text": [
      "try again.lives left 9\n"
     ]
    },
    {
     "name": "stdin",
     "output_type": "stream",
     "text": [
      "enter letter e\n"
     ]
    },
    {
     "name": "stdout",
     "output_type": "stream",
     "text": [
      "try again.lives left 8\n"
     ]
    },
    {
     "name": "stdin",
     "output_type": "stream",
     "text": [
      "enter letter i\n"
     ]
    },
    {
     "name": "stdout",
     "output_type": "stream",
     "text": [
      "_ i _ _ _ _ _ \n",
      "correct guessed letter.attempts left 8\n"
     ]
    },
    {
     "name": "stdin",
     "output_type": "stream",
     "text": [
      "enter letter o\n"
     ]
    },
    {
     "name": "stdout",
     "output_type": "stream",
     "text": [
      "_ i _ o _ _ o \n",
      "correct guessed letter.attempts left 8\n"
     ]
    },
    {
     "name": "stdin",
     "output_type": "stream",
     "text": [
      "enter letter u\n"
     ]
    },
    {
     "name": "stdout",
     "output_type": "stream",
     "text": [
      "try again.lives left 7\n"
     ]
    },
    {
     "name": "stdin",
     "output_type": "stream",
     "text": [
      "enter letter b\n"
     ]
    },
    {
     "name": "stdout",
     "output_type": "stream",
     "text": [
      "try again.lives left 6\n"
     ]
    },
    {
     "name": "stdin",
     "output_type": "stream",
     "text": [
      "enter letter p\n"
     ]
    },
    {
     "name": "stdout",
     "output_type": "stream",
     "text": [
      "try again.lives left 5\n"
     ]
    },
    {
     "name": "stdin",
     "output_type": "stream",
     "text": [
      "enter letter r\n"
     ]
    },
    {
     "name": "stdout",
     "output_type": "stream",
     "text": [
      "try again.lives left 4\n"
     ]
    },
    {
     "name": "stdin",
     "output_type": "stream",
     "text": [
      "enter letter h\n"
     ]
    },
    {
     "name": "stdout",
     "output_type": "stream",
     "text": [
      "_ i _ o _ h o \n",
      "correct guessed letter.attempts left 4\n"
     ]
    },
    {
     "name": "stdin",
     "output_type": "stream",
     "text": [
      "enter letter g\n"
     ]
    },
    {
     "name": "stdout",
     "output_type": "stream",
     "text": [
      "try again.lives left 3\n"
     ]
    },
    {
     "name": "stdin",
     "output_type": "stream",
     "text": [
      "enter letter c\n"
     ]
    },
    {
     "name": "stdout",
     "output_type": "stream",
     "text": [
      "try again.lives left 2\n"
     ]
    },
    {
     "name": "stdin",
     "output_type": "stream",
     "text": [
      "enter letter t\n"
     ]
    },
    {
     "name": "stdout",
     "output_type": "stream",
     "text": [
      "try again.lives left 1\n"
     ]
    },
    {
     "name": "stdin",
     "output_type": "stream",
     "text": [
      "enter letter d\n"
     ]
    },
    {
     "name": "stdout",
     "output_type": "stream",
     "text": [
      "_ i d o _ h o \n",
      "correct guessed letter.attempts left 1\n"
     ]
    },
    {
     "name": "stdin",
     "output_type": "stream",
     "text": [
      "enter letter k\n"
     ]
    },
    {
     "name": "stdout",
     "output_type": "stream",
     "text": [
      "k i d o _ h o \n",
      "correct guessed letter.attempts left 1\n"
     ]
    },
    {
     "name": "stdin",
     "output_type": "stream",
     "text": [
      "enter letter c\n"
     ]
    },
    {
     "name": "stdout",
     "output_type": "stream",
     "text": [
      "already guessed this\n"
     ]
    },
    {
     "name": "stdin",
     "output_type": "stream",
     "text": [
      "enter letter s\n"
     ]
    },
    {
     "name": "stdout",
     "output_type": "stream",
     "text": [
      "k i d o s h o \n",
      "correct guessed letter.attempts left 1\n",
      "congratulalions 🥳 you guessed the correct word🎉 kidosho\n"
     ]
    }
   ],
   "source": [
    "#splitting the key and values in the text file\n",
    "import random \n",
    "\n",
    "word_choices = {}\n",
    "with open('text-files/allwords.txt') as f:\n",
    "    for line in f:\n",
    "        clean = line.strip()\n",
    "        words = clean.split(':')\n",
    "        \n",
    "        each_word = words[1].split()\n",
    "        word_choices[words[0]] = each_word\n",
    "        \n",
    "choice = input('enter word')\n",
    "#print(word_choices[choice])\n",
    "#print(word_choices[words[0]])\n",
    "\n",
    "#words = ['city','bouquet','combustion','labour','remember']\n",
    "guessed_list = []\n",
    "word = random.choice(word_choices[choice])\n",
    "#print(word)\n",
    "def update_word(letters,word):\n",
    "    new_word = ''\n",
    "    for letter in word:\n",
    "        if letter in letters:\n",
    "            new_word += letter\n",
    "            print(letter, end = ' ')\n",
    "        else:\n",
    "            new_word += '_'\n",
    "            print('_', end = ' ')\n",
    "    print()\n",
    "    return new_word\n",
    "    \n",
    "guessed_word = update_word(guessed_list,word)\n",
    "\n",
    "attempts = 10\n",
    "life = attempts\n",
    "\n",
    "while attempts > 0 and guessed_word != word:\n",
    "    guessed_letter = input('enter letter')\n",
    "    \n",
    "    \n",
    "    if guessed_letter in guessed_list:\n",
    "        print('already guessed this')\n",
    "        \n",
    "    elif guessed_letter not in word:\n",
    "        attempts -=1\n",
    "        print('try again.lives left', attempts)\n",
    "        guessed_list.append(guessed_letter)\n",
    "    else:\n",
    "        guessed_list.append(guessed_letter)\n",
    "        guessed_word = update_word(guessed_list,word)\n",
    "        \n",
    "        print('correct guessed letter.attempts left', attempts)\n",
    "if guessed_word == word:\n",
    "    print('congratulalions 🥳 you guessed the correct word🎉', word)\n",
    "\n",
    "else: \n",
    "    print('you are hanged💀, the word was',word)    "
   ]
  },
  {
   "cell_type": "code",
   "execution_count": null,
   "id": "97473ab4-4759-4c0e-8da3-e17d87874435",
   "metadata": {},
   "outputs": [],
   "source": []
  },
  {
   "cell_type": "code",
   "execution_count": 45,
   "id": "4b710471-4903-4f9f-9eec-3bd9426f0ef8",
   "metadata": {},
   "outputs": [],
   "source": []
  },
  {
   "cell_type": "code",
   "execution_count": 43,
   "id": "51dfa975-1c3e-4b07-b40c-17a460e8c2aa",
   "metadata": {},
   "outputs": [
    {
     "name": "stdout",
     "output_type": "stream",
     "text": [
      "helo world\n"
     ]
    }
   ],
   "source": [
    "print('helo world')"
   ]
  },
  {
   "cell_type": "code",
   "execution_count": 3,
   "id": "2baf95af-b595-4512-afdb-fd083ddc7128",
   "metadata": {},
   "outputs": [
    {
     "name": "stdin",
     "output_type": "stream",
     "text": [
      "Enter letter:  g\n"
     ]
    },
    {
     "name": "stdout",
     "output_type": "stream",
     "text": [
      "Try again. Attempts left: 9\n"
     ]
    },
    {
     "name": "stdin",
     "output_type": "stream",
     "text": [
      "Enter letter:  o\n"
     ]
    },
    {
     "name": "stdout",
     "output_type": "stream",
     "text": [
      "Current guess: o\n"
     ]
    },
    {
     "name": "stdin",
     "output_type": "stream",
     "text": [
      "Enter letter:  k\n"
     ]
    },
    {
     "name": "stdout",
     "output_type": "stream",
     "text": [
      "Try again. Attempts left: 8\n"
     ]
    },
    {
     "name": "stdin",
     "output_type": "stream",
     "text": [
      "Enter letter:  k\n"
     ]
    },
    {
     "name": "stdout",
     "output_type": "stream",
     "text": [
      "Try again. Attempts left: 7\n"
     ]
    },
    {
     "name": "stdin",
     "output_type": "stream",
     "text": [
      "Enter letter:  k\n"
     ]
    },
    {
     "name": "stdout",
     "output_type": "stream",
     "text": [
      "Try again. Attempts left: 6\n"
     ]
    },
    {
     "name": "stdin",
     "output_type": "stream",
     "text": [
      "Enter letter:  p\n"
     ]
    },
    {
     "name": "stdout",
     "output_type": "stream",
     "text": [
      "Current guess: op\n"
     ]
    },
    {
     "name": "stdin",
     "output_type": "stream",
     "text": [
      "Enter letter:  y\n"
     ]
    },
    {
     "name": "stdout",
     "output_type": "stream",
     "text": [
      "Current guess: opy\n"
     ]
    },
    {
     "name": "stdin",
     "output_type": "stream",
     "text": [
      "Enter letter:  i\n"
     ]
    },
    {
     "name": "stdout",
     "output_type": "stream",
     "text": [
      "Try again. Attempts left: 5\n"
     ]
    },
    {
     "name": "stdin",
     "output_type": "stream",
     "text": [
      "Enter letter:  e\n"
     ]
    },
    {
     "name": "stdout",
     "output_type": "stream",
     "text": [
      "Try again. Attempts left: 4\n"
     ]
    },
    {
     "name": "stdin",
     "output_type": "stream",
     "text": [
      "Enter letter:  t\n"
     ]
    },
    {
     "name": "stdout",
     "output_type": "stream",
     "text": [
      "Current guess: opyt\n"
     ]
    },
    {
     "name": "stdin",
     "output_type": "stream",
     "text": [
      "Enter letter:  h\n"
     ]
    },
    {
     "name": "stdout",
     "output_type": "stream",
     "text": [
      "Current guess: opyth\n"
     ]
    },
    {
     "name": "stdin",
     "output_type": "stream",
     "text": [
      "Enter letter:  h\n"
     ]
    },
    {
     "name": "stdout",
     "output_type": "stream",
     "text": [
      "Current guess: opythh\n"
     ]
    },
    {
     "name": "stdin",
     "output_type": "stream",
     "text": [
      "Enter letter:  n\n"
     ]
    },
    {
     "name": "stdout",
     "output_type": "stream",
     "text": [
      "Current guess: opythhn\n"
     ]
    },
    {
     "name": "stdin",
     "output_type": "stream",
     "text": [
      "Enter letter:  j\n"
     ]
    },
    {
     "name": "stdout",
     "output_type": "stream",
     "text": [
      "Try again. Attempts left: 3\n"
     ]
    },
    {
     "name": "stdin",
     "output_type": "stream",
     "text": [
      "Enter letter:  m\n"
     ]
    },
    {
     "name": "stdout",
     "output_type": "stream",
     "text": [
      "Try again. Attempts left: 2\n"
     ]
    },
    {
     "name": "stdin",
     "output_type": "stream",
     "text": [
      "Enter letter:  p\n"
     ]
    },
    {
     "name": "stdout",
     "output_type": "stream",
     "text": [
      "Current guess: opythhnp\n"
     ]
    },
    {
     "name": "stdin",
     "output_type": "stream",
     "text": [
      "Enter letter:  c\n"
     ]
    },
    {
     "name": "stdout",
     "output_type": "stream",
     "text": [
      "Try again. Attempts left: 1\n"
     ]
    },
    {
     "name": "stdin",
     "output_type": "stream",
     "text": [
      "Enter letter:  l\n"
     ]
    },
    {
     "name": "stdout",
     "output_type": "stream",
     "text": [
      "Try again. Attempts left: 0\n",
      "Game over! The word was: python\n"
     ]
    }
   ],
   "source": [
    "import random\n",
    "word = \"python\"\n",
    "guessed_list = []\n",
    "attempts = 10\n",
    "while attempts > 0 and ''.join(guessed_list) != word:\n",
    "    letter = input('Enter letter: ')\n",
    "    if letter not in word:\n",
    "        attempts -= 1         \n",
    "        print('Try again. Attempts left:', attempts)     \n",
    "    else:         \n",
    "        guessed_list.append(letter)        \n",
    "        print('Current guess:', ''.join(guessed_list))\n",
    "if ''.join(guessed_list) == word:\n",
    "    print('Congratulations! You guessed the word:', word) \n",
    "else:     print('Game over! The word was:', word)"
   ]
  },
  {
   "cell_type": "code",
   "execution_count": null,
   "id": "514088b3-7ccd-4370-b186-4b2fdaf37e12",
   "metadata": {},
   "outputs": [],
   "source": [
    "import random \n",
    "\n",
    "word_choices = {}\n",
    "with open('text-files/allwords.txt') as f:\n",
    "    for line in f:\n",
    "        clean = line.strip()\n",
    "        words = clean.split(':')\n",
    "        \n",
    "        each_word = words[1].split()\n",
    "        word_choices[words[0]] = each_word\n",
    "        \n",
    "choice = input('enter word')\n",
    "#print(word_choices[choice])\n",
    "#print(word_choices[words[0]])\n",
    "\n",
    "#words = ['city','bouquet','combustion','labour','remember']\n",
    "guessed_list = []\n",
    "word = random.choice(word_choices[choice])\n",
    "#print(word)\n",
    "def update_word(letters,word):\n",
    "    new_word = ''\n",
    "    for letter in word:\n",
    "        if letter in letters:\n",
    "            new_word += letter\n",
    "            print(letter, end = ' ')\n",
    "        else:\n",
    "            new_word += '_'\n",
    "            print('_', end = ' ')\n",
    "    print()\n",
    "    return new_word\n",
    "    \n",
    "guessed_word = update_word(guessed_list,word)\n",
    "\n",
    "attempts = 10\n",
    "life = attempts\n",
    "\n",
    "while attempts > 0 and guessed_word != word:\n",
    "    guessed_letter = input('enter letter')\n",
    "    \n",
    "    \n",
    "    if guessed_letter in guessed_list:\n",
    "        print('already guessed this')\n",
    "        \n",
    "    elif guessed_letter not in word:\n",
    "        attempts -=1\n",
    "        print('try again.lives left', attempts)\n",
    "        guessed_list.append(guessed_letter)\n",
    "    else:\n",
    "        guessed_list.append(guessed_letter)\n",
    "        guessed_word = update_word(guessed_list,word)\n",
    "        \n",
    "        print('correct guessed letter.attempts left', attempts)\n",
    "if guessed_word == word:\n",
    "    print('congratulalions 🥳 you guessed the correct word🎉', word)\n",
    "\n",
    "else: \n",
    "    print('you are hanged💀, the word was',word)  "
   ]
  },
  {
   "cell_type": "code",
   "execution_count": null,
   "id": "01234d10-5448-4ad0-8192-610c969a83d5",
   "metadata": {},
   "outputs": [
    {
     "name": "stdin",
     "output_type": "stream",
     "text": [
      "Enter word easy\n"
     ]
    },
    {
     "name": "stdout",
     "output_type": "stream",
     "text": [
      "_ _ _ _ _ \n"
     ]
    },
    {
     "name": "stdin",
     "output_type": "stream",
     "text": [
      "Enter a letter:  e\n"
     ]
    },
    {
     "name": "stdout",
     "output_type": "stream",
     "text": [
      "Correct! Attempts left: 10\n",
      "_ _ _ e _ \n"
     ]
    },
    {
     "name": "stdin",
     "output_type": "stream",
     "text": [
      "Enter a letter:  f\n"
     ]
    },
    {
     "name": "stdout",
     "output_type": "stream",
     "text": [
      "Incorrect. Lives left: 9\n"
     ]
    },
    {
     "name": "stdin",
     "output_type": "stream",
     "text": [
      "Enter a letter:  w\n"
     ]
    },
    {
     "name": "stdout",
     "output_type": "stream",
     "text": [
      "Incorrect. Lives left: 8\n"
     ]
    }
   ],
   "source": [
    "import turtle\n",
    "import random\n",
    "\n",
    "# 🐢 Draw hangman figure based on remaining attempts\n",
    "def draw_hangman(attempts_left):\n",
    "    t = turtle.Turtle()\n",
    "    t.speed(0)\n",
    "    t.hideturtle()\n",
    "    parts = 10 - attempts_left\n",
    "\n",
    "    # Draw the gallows once\n",
    "    if parts == 1:\n",
    "        t.reset()\n",
    "        t.penup()\n",
    "        t.goto(-100, -150)\n",
    "        t.pendown()\n",
    "        t.forward(100)\n",
    "        t.backward(50)\n",
    "        t.left(90)\n",
    "        t.forward(250)\n",
    "        t.right(90)\n",
    "        t.forward(100)\n",
    "        t.right(90)\n",
    "        t.forward(50)\n",
    "        t.hideturtle()\n",
    "        \n",
    "\n",
    "    if parts >= 2:\n",
    "        t.penup()\n",
    "        t.goto(50, 0)\n",
    "        t.pendown()\n",
    "        t.circle(25)  # Head\n",
    "\n",
    "    if parts >= 3:\n",
    "        t.penup()\n",
    "        t.goto(50, 0)\n",
    "        t.right(90)\n",
    "        t.pendown()\n",
    "        t.forward(40)  # Body\n",
    "\n",
    "    if parts >= 4:\n",
    "        #t.backward(60)\n",
    "        t.left(45)\n",
    "        t.forward(40)  # Left arm\n",
    "\n",
    "    if parts >= 5:\n",
    "        t.backward(40)\n",
    "        t.right(90)\n",
    "        t.forward(40)  # Right arm\n",
    "\n",
    "    if parts >= 6:\n",
    "        t.backward(40)\n",
    "        t.left(45)\n",
    "        t.forward(60)  # Lower body\n",
    "\n",
    "    if parts >= 7:\n",
    "        t.left(45)\n",
    "        t.forward(40)  # Left leg\n",
    "\n",
    "    if parts >= 8:\n",
    "        t.backward(40)\n",
    "        t.right(90)\n",
    "        t.forward(40)  # Right leg\n",
    "\n",
    "word_choices = {}\n",
    "with open('text-files/allwords.txt') as f:\n",
    "    for line in f:\n",
    "        clean = line.strip()\n",
    "        words = clean.split(':')\n",
    "        each_word = words[1].split()\n",
    "        word_choices[words[0]] = each_word\n",
    "\n",
    "choice = input('Enter word') \n",
    "guessed_list = []\n",
    "word = random.choice(word_choices[choice])\n",
    "\n",
    "def update_word(letters, word):\n",
    "    new_word = ''\n",
    "    for letter in word:\n",
    "        if letter in letters:\n",
    "            new_word += letter\n",
    "            print(letter, end=' ')\n",
    "        else:\n",
    "            new_word += '_'\n",
    "            print('_', end=' ')\n",
    "    print()\n",
    "    return new_word\n",
    "\n",
    "guessed_word = update_word(guessed_list, word)\n",
    "\n",
    "attempts = 10\n",
    "\n",
    "while attempts > 0 and guessed_word != word:\n",
    "    guessed_letter = input('Enter a letter: ').lower()\n",
    "\n",
    "    if guessed_letter in guessed_list:\n",
    "        print('You already guessed that letter.')\n",
    "    elif guessed_letter not in word:\n",
    "        attempts -= 1\n",
    "        print('Incorrect. Lives left:', attempts)\n",
    "        guessed_list.append(guessed_letter)\n",
    "        draw_hangman(attempts)  # Draw hangman part\n",
    "    else:\n",
    "        guessed_list.append(guessed_letter)\n",
    "        print('Correct! Attempts left:', attempts)\n",
    "        guessed_word = update_word(guessed_list, word)\n",
    "        \n",
    "\n",
    "if guessed_word == word:\n",
    "    print('🎉 Congratulations! You guessed the word:', word)\n",
    "else:\n",
    "    print('💀 Game Over! The word was:', word)          "
   ]
  },
  {
   "cell_type": "code",
   "execution_count": null,
   "id": "d8eb241c-79d8-4e4a-a065-d8eb103280c1",
   "metadata": {},
   "outputs": [
    {
     "name": "stdout",
     "output_type": "stream",
     "text": [
      "_ _ _ _ _ \n",
      "_ _ _ _ t \n"
     ]
    }
   ],
   "source": [
    "\n",
    "import turtle #imports turtle used for drawing the hangman on screen.\n",
    "import random #pick a random word from the file doc\n",
    "import tkinter as tk #Imports GUI toolkit to collect user input and show messages. \n",
    "from tkinter import simpledialog, messagebox #Provides popup input boxes and info messages \n",
    "\n",
    "def draw_hangman(attempts_left): #defines the function that draws the hangman \n",
    "    t = turtle.Turtle() #its the turtle command that draws object\n",
    "    t.speed(0)  #sets turtle speed\n",
    "    t.hideturtle() # hides turtle\n",
    "    parts = 8 - attempts_left #no. of part drawn by turtle when mistakes are made\n",
    "    \n",
    "    # Draw the gallows once\n",
    "    if parts == 1:  #the gallow is drawn when the player makes the first mistake\n",
    "        t.reset()\n",
    "        t.penup()\n",
    "        t.goto(-100, -150)\n",
    "        t.pensize(4)\n",
    "        t.pendown()\n",
    "        t.forward(100)\n",
    "        t.backward(50)\n",
    "        t.left(90)\n",
    "        t.forward(250)\n",
    "        t.right(90)\n",
    "        t.forward(100)\n",
    "        t.right(90)\n",
    "        t.forward(50)\n",
    "        \n",
    "    if parts >= 2:  # (>=) means the game moves to the next part if the player makes a mistake\n",
    "        t.penup()\n",
    "        t.goto(50, 0)\n",
    "        t.pendown()\n",
    "        t.circle(25)  # Head\n",
    "        \n",
    "    if parts >= 3:\n",
    "        t.penup()\n",
    "        t.goto(50, 0)\n",
    "        t.right(90)\n",
    "        t.pendown()\n",
    "        t.forward(40)  # Body\n",
    "        \n",
    "    if parts >= 4:\n",
    "        t.left(45)\n",
    "        t.forward(40)  # Left arm\n",
    "        \n",
    "    if parts >= 5:\n",
    "        t.backward(40)\n",
    "        t.right(90)\n",
    "        t.forward(40)  # Right arm\n",
    "        \n",
    "    if parts >= 6:\n",
    "        t.backward(40)\n",
    "        t.left(45)\n",
    "        t.forward(60)  # Lower body\n",
    "        \n",
    "    if parts >= 7:\n",
    "        t.left(45)\n",
    "        t.forward(40)  # Left leg\n",
    "        \n",
    "    if parts >= 8:\n",
    "        t.backward(40)\n",
    "        t.right(90)\n",
    "        t.forward(40)  # Right leg\n",
    "\n",
    "def update_word(letters, word): #def the repeated letter in the chosen word if the letter has been guessed, it adds the letter to the displayed word\n",
    "    new_word = ''  \n",
    "    for letter in word:\n",
    "        if letter in letters:\n",
    "            new_word += letter\n",
    "            print(letter, end=' ')\n",
    "        else:                          #If not, it adds an underscore (_) to show it's still hidden.\n",
    "            new_word += '_'   \n",
    "            print('_', end=' ')\n",
    "    print()\n",
    "    return new_word\n",
    "    \n",
    "\n",
    "def main():                #this function controls the whole flow of the game \n",
    "    word_choices = {}\n",
    "    with open('text-files/allwords.txt') as f:    #the function opens the file allwords in text file\n",
    "        for line in f:\n",
    "            clean = line.strip()\n",
    "            words = clean.split(':')\n",
    "            each_word = words[1].split()\n",
    "            word_choices[words[0]] = each_word\n",
    "        \n",
    "\n",
    "    choice = simpledialog.askstring(\"Input\", \"Enter word\")    #prompts player to select category in the file i.e easy, mediaum or hard words\n",
    "    guessed_list = []\n",
    "    word = random.choice(word_choices[choice])\n",
    "    \n",
    " \n",
    "    \n",
    "    guessed_word = update_word(guessed_list, word)\n",
    "    attempts = 8\n",
    "        \n",
    "    while attempts > 0 and guessed_word != word:    #the command runs until either the word is guessed or attempts reach zero.\n",
    "        guessed_letter = simpledialog.askstring(\"Input\", \"Enter a letter:\").lower()\n",
    "        \n",
    "        if guessed_letter in guessed_list:\n",
    "            messagebox.showinfo(\"Info\", \"You already guessed that letter.\")\n",
    "        elif guessed_letter not in word:\n",
    "            attempts -= 1\n",
    "            messagebox.showinfo(\"Info\", f'Incorrect. Lives left: {attempts}')\n",
    "            guessed_list.append(guessed_letter)\n",
    "            draw_hangman(attempts)  # Draw hangman part\n",
    "        else:\n",
    "            guessed_list.append(guessed_letter)\n",
    "            messagebox.showinfo(\"Info\", f'Correct! Attempts left: {attempts}')\n",
    "            guessed_word = update_word(guessed_list, word)\n",
    "            \n",
    "    \n",
    "    if guessed_word == word:\n",
    "        messagebox.showinfo(\"Congratulations!\", f'🎉 You guessed the word: {word}')\n",
    "    else:\n",
    "        messagebox.showinfo(\"Game Over\", f'💀 Game Over! The word was: {word}')\n",
    "\n",
    "if __name__ == \"__main__\":\n",
    "    root = tk.Tk()\n",
    "    root.withdraw()  # Hide the root window\n",
    "    main()\n",
    "    turtle.done()\n"
   ]
  },
  {
   "cell_type": "code",
   "execution_count": null,
   "id": "9eb4a590-98bd-45b4-b630-fb4caf7bdacb",
   "metadata": {},
   "outputs": [],
   "source": [
    "\n",
    "import turtle  # imports turtle used for drawing the hangman on screen.\n",
    "import random  # pick a random word from the file doc\n",
    "import tkinter as tk  # Imports GUI toolkit to collect user input and show messages.\n",
    "from tkinter import simpledialog, messagebox  # Provides popup input boxes and info messages\n",
    "\n",
    "def draw_hangman(attempts_left):  # defines the function that draws the hangman\n",
    "    t = turtle.Turtle()  # its the turtle command that draws object\n",
    "    t.speed(0)  # sets turtle speed\n",
    "    t.hideturtle()  # hides turtle\n",
    "    parts = 8 - attempts_left  # no. of part drawn by turtle when mistakes are made\n",
    "\n",
    "    # Draw the gallows once\n",
    "    if parts == 1:  # the gallow is drawn when the player makes the first mistake\n",
    "        t.reset()\n",
    "        t.penup()\n",
    "        t.goto(-100, -150)\n",
    "        t.pensize(4)\n",
    "        t.pendown()\n",
    "        t.forward(100)\n",
    "        t.backward(50)\n",
    "        t.left(90)\n",
    "        t.forward(250)\n",
    "        t.right(90)\n",
    "        t.forward(100)\n",
    "        t.right(90)\n",
    "        t.forward(50)\n",
    "\n",
    "    if parts >= 2:  # (>=) means the game moves to the next part if the player makes a mistake\n",
    "        t.penup()\n",
    "        t.goto(50, 0)\n",
    "        t.pendown()\n",
    "        t.circle(25)  # Head\n",
    "\n",
    "    if parts >= 3:\n",
    "        t.penup()\n",
    "        t.goto(50, 0)\n",
    "        t.right(90)\n",
    "        t.pendown()\n",
    "        t.forward(40)  # Body\n",
    "\n",
    "    if parts >= 4:\n",
    "        t.left(45)\n",
    "        t.forward(40)  # Left arm\n",
    "\n",
    "    if parts >= 5:\n",
    "        t.backward(40)\n",
    "        t.right(90)\n",
    "        t.forward(40)  # Right arm\n",
    "\n",
    "    if parts >= 6:\n",
    "        t.backward(40)\n",
    "        t.left(45)\n",
    "        t.forward(60)  # Lower body\n",
    "\n",
    "    if parts >= 7:\n",
    "        t.left(45)\n",
    "        t.forward(40)  # Left leg\n",
    "\n",
    "    if parts >= 8:\n",
    "        t.backward(40)\n",
    "        t.right(90)\n",
    "        t.forward(40)  # Right leg\n",
    "\n",
    "def update_word(letters, word, display_turtle):  # def the repeated letter in the chosen word if the letter has been guessed, it adds the letter to the displayed word\n",
    "    new_word = ''\n",
    "    display_turtle.clear()  # Clear previous word display\n",
    "    x_offset = -100  # Starting position for the word\n",
    "    display_turtle.penup()\n",
    "    display_turtle.goto(x_offset, -200)  # Position the word below the hangman\n",
    "    display_turtle.pendown()\n",
    "    for letter in word:\n",
    "        if letter in letters:\n",
    "            new_word += letter\n",
    "            display_turtle.write(letter, font=(\"Arial\", 24, \"normal\"))\n",
    "            x_offset += 30\n",
    "            display_turtle.penup()\n",
    "            display_turtle.goto(x_offset, -200)\n",
    "            display_turtle.pendown()\n",
    "        else:  # If not, it adds an underscore (_) to show it's still hidden.\n",
    "            new_word += '_'\n",
    "            display_turtle.write(\"_ \", font=(\"Arial\", 24, \"normal\"))\n",
    "            x_offset += 30\n",
    "            display_turtle.penup()\n",
    "            display_turtle.goto(x_offset, -200)\n",
    "            display_turtle.pendown()\n",
    "    return new_word\n",
    "\n",
    "def main():  # this function controls the whole flow of the game\n",
    "    word_choices = {}\n",
    "    with open('text-files/allwords.txt') as f:  # the function opens the file allwords in text file\n",
    "        for line in f:\n",
    "            clean = line.strip()\n",
    "            words = clean.split(':')\n",
    "            each_word = words[1].split()\n",
    "            word_choices[words[0]] = each_word\n",
    "    choice = simpledialog.askstring(\"Input\", \"Enter word\")  # prompts player to select category in the file i.e easy, mediaum or hard words\n",
    "    guessed_list = []\n",
    "    word = random.choice(word_choices[choice])\n",
    "    attempts = 8\n",
    "    # Initialize turtle for word display\n",
    "    word_turtle = turtle.Turtle()\n",
    "    word_turtle.speed(0)\n",
    "    word_turtle.hideturtle()\n",
    "    guessed_word = update_word(guessed_list, word, word_turtle)  # Initial display\n",
    "\n",
    "    while attempts > 0 and guessed_word != word:  # the command runs until either the word is guessed or attempts reach zero.\n",
    "        guessed_letter = simpledialog.askstring(\"Input\", \"Enter a letter:\").lower()\n",
    "        if guessed_letter in guessed_list:\n",
    "            messagebox.showinfo(\"Info\", \"You already guessed that letter.\")\n",
    "        elif guessed_letter not in word:\n",
    "            attempts -= 1\n",
    "            messagebox.showinfo(\"Info\", f'Incorrect. Lives left: {attempts}')\n",
    "            guessed_list.append(guessed_letter)\n",
    "            draw_hangman(attempts)  # Draw hangman part\n",
    "        else:\n",
    "            guessed_list.append(guessed_letter)\n",
    "            messagebox.showinfo(\"Info\", f'Correct! Attempts left: {attempts}')\n",
    "        guessed_word = update_word(guessed_list, word, word_turtle)  # Update word display\n",
    "\n",
    "    if guessed_word == word:\n",
    "        messagebox.showinfo(\"Congratulations!\", f'🎉 You guessed the word: {word}')\n",
    "    else:\n",
    "        messagebox.showinfo(\"Game Over\", f'💀 Game Over! The word was: {word}')\n",
    "\n",
    "if __name__ == \"__main__\":  #Standard Python check to run the game only if the file is executed directly.\n",
    "\n",
    "\n",
    "    root = tk.Tk()\n",
    "    root.withdraw()  # Hide the root window\n",
    "    main()\n",
    "    turtle.done() #keeps the turtle window open after the game ends."
   ]
  },
  {
   "cell_type": "code",
   "execution_count": null,
   "id": "557254c7-5e3c-46b3-aebc-50d6147568b0",
   "metadata": {},
   "outputs": [],
   "source": []
  }
 ],
 "metadata": {
  "kernelspec": {
   "display_name": "Python 3 (ipykernel)",
   "language": "python",
   "name": "python3"
  },
  "language_info": {
   "codemirror_mode": {
    "name": "ipython",
    "version": 3
   },
   "file_extension": ".py",
   "mimetype": "text/x-python",
   "name": "python",
   "nbconvert_exporter": "python",
   "pygments_lexer": "ipython3",
   "version": "3.13.5"
  }
 },
 "nbformat": 4,
 "nbformat_minor": 5
}
